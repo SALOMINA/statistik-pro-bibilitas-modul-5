{
 "cells": [
  {
   "cell_type": "code",
   "execution_count": 2,
   "id": "00308dc1",
   "metadata": {},
   "outputs": [],
   "source": [
    "import statistics\n"
   ]
  },
  {
   "cell_type": "code",
   "execution_count": 3,
   "id": "adcd2f2b",
   "metadata": {},
   "outputs": [],
   "source": [
    "p=[2,4,4,4,5,5,7,9]"
   ]
  },
  {
   "cell_type": "code",
   "execution_count": 4,
   "id": "55cd0234",
   "metadata": {},
   "outputs": [
    {
     "data": {
      "text/plain": [
       "5"
      ]
     },
     "execution_count": 4,
     "metadata": {},
     "output_type": "execute_result"
    }
   ],
   "source": [
    "statistics.mean(p)"
   ]
  },
  {
   "cell_type": "code",
   "execution_count": 6,
   "id": "262885ff",
   "metadata": {},
   "outputs": [],
   "source": [
    "import numpy as np"
   ]
  },
  {
   "cell_type": "code",
   "execution_count": 9,
   "id": "bf61b1ec",
   "metadata": {},
   "outputs": [
    {
     "data": {
      "text/plain": [
       "5.25"
      ]
     },
     "execution_count": 9,
     "metadata": {},
     "output_type": "execute_result"
    }
   ],
   "source": [
    "q=[2,4,4,5,5,5,8,9]\n",
    "np.mean(q)"
   ]
  },
  {
   "cell_type": "code",
   "execution_count": 10,
   "id": "df25dc96",
   "metadata": {},
   "outputs": [
    {
     "data": {
      "text/plain": [
       "2.1065374432940898"
      ]
     },
     "execution_count": 10,
     "metadata": {},
     "output_type": "execute_result"
    }
   ],
   "source": [
    "np.std(q)"
   ]
  },
  {
   "cell_type": "code",
   "execution_count": 11,
   "id": "a564d17a",
   "metadata": {},
   "outputs": [
    {
     "data": {
      "text/plain": [
       "4.5"
      ]
     },
     "execution_count": 11,
     "metadata": {},
     "output_type": "execute_result"
    }
   ],
   "source": [
    "np.median(p)"
   ]
  },
  {
   "cell_type": "code",
   "execution_count": 12,
   "id": "da8155a8",
   "metadata": {},
   "outputs": [
    {
     "data": {
      "text/plain": [
       "9"
      ]
     },
     "execution_count": 12,
     "metadata": {},
     "output_type": "execute_result"
    }
   ],
   "source": [
    "np.max(p)"
   ]
  },
  {
   "cell_type": "code",
   "execution_count": 13,
   "id": "74cf3a34",
   "metadata": {},
   "outputs": [
    {
     "data": {
      "text/plain": [
       "2"
      ]
     },
     "execution_count": 13,
     "metadata": {},
     "output_type": "execute_result"
    }
   ],
   "source": [
    "np.min(p)"
   ]
  },
  {
   "cell_type": "code",
   "execution_count": 14,
   "id": "df606a60",
   "metadata": {},
   "outputs": [
    {
     "data": {
      "text/plain": [
       "4.0"
      ]
     },
     "execution_count": 14,
     "metadata": {},
     "output_type": "execute_result"
    }
   ],
   "source": [
    "np.percentile(p,25)"
   ]
  },
  {
   "cell_type": "code",
   "execution_count": 15,
   "id": "e704e320",
   "metadata": {},
   "outputs": [
    {
     "data": {
      "text/plain": [
       "4.5"
      ]
     },
     "execution_count": 15,
     "metadata": {},
     "output_type": "execute_result"
    }
   ],
   "source": [
    "np.percentile(p,50)"
   ]
  },
  {
   "cell_type": "code",
   "execution_count": 16,
   "id": "78acf07f",
   "metadata": {},
   "outputs": [
    {
     "data": {
      "text/plain": [
       "5.5"
      ]
     },
     "execution_count": 16,
     "metadata": {},
     "output_type": "execute_result"
    }
   ],
   "source": [
    "np.percentile(p,75)"
   ]
  },
  {
   "cell_type": "code",
   "execution_count": 17,
   "id": "8188b128",
   "metadata": {},
   "outputs": [
    {
     "data": {
      "text/plain": [
       "5.75"
      ]
     },
     "execution_count": 17,
     "metadata": {},
     "output_type": "execute_result"
    }
   ],
   "source": [
    "np.percentile(q,75)"
   ]
  },
  {
   "cell_type": "code",
   "execution_count": 18,
   "id": "efec47e3",
   "metadata": {},
   "outputs": [
    {
     "data": {
      "text/plain": [
       "4.0"
      ]
     },
     "execution_count": 18,
     "metadata": {},
     "output_type": "execute_result"
    }
   ],
   "source": [
    "np.var(p)"
   ]
  },
  {
   "cell_type": "code",
   "execution_count": 19,
   "id": "0e87eb0d",
   "metadata": {},
   "outputs": [
    {
     "data": {
      "text/plain": [
       "4.4375"
      ]
     },
     "execution_count": 19,
     "metadata": {},
     "output_type": "execute_result"
    }
   ],
   "source": [
    "np.var(q)"
   ]
  },
  {
   "cell_type": "code",
   "execution_count": 20,
   "id": "5f0d54c9",
   "metadata": {},
   "outputs": [],
   "source": [
    "A=[2,4,4,4,5,5,7,9]\n",
    "B=[10,13,15,14,13,16,18,21]"
   ]
  },
  {
   "cell_type": "code",
   "execution_count": 21,
   "id": "63923b7b",
   "metadata": {},
   "outputs": [
    {
     "data": {
      "text/plain": [
       "array([[ 4.57142857,  6.85714286],\n",
       "       [ 6.85714286, 11.42857143]])"
      ]
     },
     "execution_count": 21,
     "metadata": {},
     "output_type": "execute_result"
    }
   ],
   "source": [
    "np.cov(A, B)"
   ]
  },
  {
   "cell_type": "code",
   "execution_count": 23,
   "id": "4982396f",
   "metadata": {},
   "outputs": [
    {
     "data": {
      "text/plain": [
       "6.857142857142857"
      ]
     },
     "execution_count": 23,
     "metadata": {},
     "output_type": "execute_result"
    }
   ],
   "source": [
    "np.cov(A, B)[0,1]"
   ]
  },
  {
   "cell_type": "code",
   "execution_count": 24,
   "id": "af0461b5",
   "metadata": {},
   "outputs": [
    {
     "data": {
      "text/plain": [
       "array([[1.       , 0.9486833],\n",
       "       [0.9486833, 1.       ]])"
      ]
     },
     "execution_count": 24,
     "metadata": {},
     "output_type": "execute_result"
    }
   ],
   "source": [
    "np.corrcoef(A, B)"
   ]
  },
  {
   "cell_type": "code",
   "execution_count": null,
   "id": "f27b925b",
   "metadata": {},
   "outputs": [],
   "source": []
  }
 ],
 "metadata": {
  "kernelspec": {
   "display_name": "Python 3",
   "language": "python",
   "name": "python3"
  },
  "language_info": {
   "codemirror_mode": {
    "name": "ipython",
    "version": 3
   },
   "file_extension": ".py",
   "mimetype": "text/x-python",
   "name": "python",
   "nbconvert_exporter": "python",
   "pygments_lexer": "ipython3",
   "version": "3.8.8"
  }
 },
 "nbformat": 4,
 "nbformat_minor": 5
}
